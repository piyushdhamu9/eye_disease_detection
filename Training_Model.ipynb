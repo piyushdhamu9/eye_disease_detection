{
 "cells": [
  {
   "cell_type": "code",
   "execution_count": 1,
   "id": "137926b3-9057-42da-bfab-a9bceba7872d",
   "metadata": {},
   "outputs": [],
   "source": [
    "import tensorflow as tf\n",
    "import matplotlib.pyplot as plt\n",
    "import seaborn as sns\n",
    "import pandas as pd\n",
    "from tensorflow.keras.utils import image_dataset_from_directory"
   ]
  },
  {
   "cell_type": "markdown",
   "id": "268300d8-1ee3-452f-aac3-f5892818490f",
   "metadata": {},
   "source": [
    "## Data Preparation"
   ]
  },
  {
   "cell_type": "code",
   "execution_count": 2,
   "id": "782e76aa-3777-43a7-8a94-33e7545890af",
   "metadata": {},
   "outputs": [
    {
     "name": "stdout",
     "output_type": "stream",
     "text": [
      "Found 76515 files belonging to 4 classes.\n"
     ]
    }
   ],
   "source": [
    "training_set=image_dataset_from_directory(\n",
    "    \"train\",\n",
    "    labels=\"inferred\",\n",
    "    label_mode=\"categorical\",\n",
    "    class_names=None,\n",
    "    color_mode=\"rgb\",\n",
    "    batch_size=32,\n",
    "    image_size=(224, 224),\n",
    "    shuffle=True,\n",
    "    seed=None,\n",
    "    validation_split=None,\n",
    "    subset=None,\n",
    "    interpolation=\"bilinear\",\n",
    "    follow_links=False,\n",
    "    crop_to_aspect_ratio=False,\n",
    "    pad_to_aspect_ratio=False,\n",
    "    data_format=None,\n",
    "    verbose=True,\n",
    ")"
   ]
  },
  {
   "cell_type": "code",
   "execution_count": 3,
   "id": "e717314c-0e39-4330-9cd5-863bd5744611",
   "metadata": {},
   "outputs": [
    {
     "name": "stdout",
     "output_type": "stream",
     "text": [
      "Found 21861 files belonging to 4 classes.\n"
     ]
    }
   ],
   "source": [
    "validation_set=image_dataset_from_directory(\n",
    "    \"val\",\n",
    "    labels=\"inferred\",\n",
    "    label_mode=\"categorical\",\n",
    "    class_names=None,\n",
    "    color_mode=\"rgb\",\n",
    "    batch_size=32,\n",
    "    image_size=(224, 224),\n",
    "    shuffle=True,\n",
    "    seed=None,\n",
    "    validation_split=None,\n",
    "    subset=None,\n",
    "    interpolation=\"bilinear\",\n",
    "    follow_links=False,\n",
    "    crop_to_aspect_ratio=False,\n",
    "    pad_to_aspect_ratio=False,\n",
    "    data_format=None,\n",
    "    verbose=True,\n",
    ")"
   ]
  },
  {
   "cell_type": "code",
   "execution_count": 4,
   "id": "2bb5846f-8d09-4efb-a816-e3795991c5cb",
   "metadata": {},
   "outputs": [],
   "source": [
    "INPUT_SHAPE=(224,224,3)"
   ]
  },
  {
   "cell_type": "markdown",
   "id": "8b87d891-8def-4882-a97f-58a0615b2eb4",
   "metadata": {},
   "source": [
    "## Model Creating"
   ]
  },
  {
   "cell_type": "code",
   "execution_count": 5,
   "id": "d0fefc56-686d-425b-a90b-e37df13b68c2",
   "metadata": {},
   "outputs": [
    {
     "name": "stdout",
     "output_type": "stream",
     "text": [
      "Downloading data from https://storage.googleapis.com/tensorflow/keras-applications/mobilenet_v3/weights_mobilenet_v3_large_224_1.0_float.h5\n",
      "\u001b[1m22661472/22661472\u001b[0m \u001b[32m━━━━━━━━━━━━━━━━━━━━\u001b[0m\u001b[37m\u001b[0m \u001b[1m5s\u001b[0m 0us/step \n"
     ]
    }
   ],
   "source": [
    "mobnet=tf.keras.applications.MobileNetV3Large(\n",
    "    input_shape=INPUT_SHAPE,\n",
    "    alpha=1.0,\n",
    "    minimalistic=False,\n",
    "    include_top=True,\n",
    "    weights=\"imagenet\",\n",
    "    input_tensor=None,\n",
    "    classes=1000,\n",
    "    pooling=None,\n",
    "    dropout_rate=0.2,\n",
    "    classifier_activation=\"softmax\",\n",
    "    include_preprocessing=True,\n",
    "    # name=\"MobileNetV3Large\",\n",
    ")"
   ]
  },
  {
   "cell_type": "code",
   "execution_count": 6,
   "id": "e90ca6d5-71b0-49f9-9e95-92631b3f8a11",
   "metadata": {},
   "outputs": [],
   "source": [
    "model=tf.keras.models.Sequential()"
   ]
  },
  {
   "cell_type": "code",
   "execution_count": 7,
   "id": "139b40ed-206d-43dc-970a-7c4c123d539a",
   "metadata": {},
   "outputs": [],
   "source": [
    "model.add(tf.keras.Input(shape=INPUT_SHAPE))"
   ]
  },
  {
   "cell_type": "code",
   "execution_count": 8,
   "id": "152f3be1-4206-4c3e-831b-71ec64a5ea6c",
   "metadata": {},
   "outputs": [],
   "source": [
    "model.add(mobnet)"
   ]
  },
  {
   "cell_type": "code",
   "execution_count": 9,
   "id": "3d85c0ab-6a4b-45d3-a62c-816e9c41fd2c",
   "metadata": {},
   "outputs": [],
   "source": [
    "#output layer\n",
    "model.add(tf.keras.layers.Dense(units=4,activation=\"softmax\"))"
   ]
  },
  {
   "cell_type": "code",
   "execution_count": 10,
   "id": "7bfbdace-7435-403c-9145-0a3fb8b5bf12",
   "metadata": {},
   "outputs": [],
   "source": [
    "metrics_list=[\"accuracy\",tf.keras.metrics.F1Score()]"
   ]
  },
  {
   "cell_type": "code",
   "execution_count": 11,
   "id": "866919d5-90ea-48bb-8e84-01ac97c297a4",
   "metadata": {},
   "outputs": [],
   "source": [
    "model.compile(optimizer=tf.keras.optimizers.Adam(learning_rate=0.0001),loss=\"categorical_crossentropy\",metrics=metrics_list)"
   ]
  },
  {
   "cell_type": "code",
   "execution_count": 12,
   "id": "4166b560-9228-4912-af37-fb1b40aedab5",
   "metadata": {},
   "outputs": [
    {
     "data": {
      "text/html": [
       "<pre style=\"white-space:pre;overflow-x:auto;line-height:normal;font-family:Menlo,'DejaVu Sans Mono',consolas,'Courier New',monospace\"><span style=\"font-weight: bold\">Model: \"sequential\"</span>\n",
       "</pre>\n"
      ],
      "text/plain": [
       "\u001b[1mModel: \"sequential\"\u001b[0m\n"
      ]
     },
     "metadata": {},
     "output_type": "display_data"
    },
    {
     "data": {
      "text/html": [
       "<pre style=\"white-space:pre;overflow-x:auto;line-height:normal;font-family:Menlo,'DejaVu Sans Mono',consolas,'Courier New',monospace\">┏━━━━━━━━━━━━━━━━━━━━━━━━━━━━━━━━━┳━━━━━━━━━━━━━━━━━━━━━━━━┳━━━━━━━━━━━━━━━┓\n",
       "┃<span style=\"font-weight: bold\"> Layer (type)                    </span>┃<span style=\"font-weight: bold\"> Output Shape           </span>┃<span style=\"font-weight: bold\">       Param # </span>┃\n",
       "┡━━━━━━━━━━━━━━━━━━━━━━━━━━━━━━━━━╇━━━━━━━━━━━━━━━━━━━━━━━━╇━━━━━━━━━━━━━━━┩\n",
       "│ MobileNetV3Large (<span style=\"color: #0087ff; text-decoration-color: #0087ff\">Functional</span>)   │ (<span style=\"color: #00d7ff; text-decoration-color: #00d7ff\">None</span>, <span style=\"color: #00af00; text-decoration-color: #00af00\">1000</span>)           │     <span style=\"color: #00af00; text-decoration-color: #00af00\">5,507,432</span> │\n",
       "├─────────────────────────────────┼────────────────────────┼───────────────┤\n",
       "│ dense (<span style=\"color: #0087ff; text-decoration-color: #0087ff\">Dense</span>)                   │ (<span style=\"color: #00d7ff; text-decoration-color: #00d7ff\">None</span>, <span style=\"color: #00af00; text-decoration-color: #00af00\">4</span>)              │         <span style=\"color: #00af00; text-decoration-color: #00af00\">4,004</span> │\n",
       "└─────────────────────────────────┴────────────────────────┴───────────────┘\n",
       "</pre>\n"
      ],
      "text/plain": [
       "┏━━━━━━━━━━━━━━━━━━━━━━━━━━━━━━━━━┳━━━━━━━━━━━━━━━━━━━━━━━━┳━━━━━━━━━━━━━━━┓\n",
       "┃\u001b[1m \u001b[0m\u001b[1mLayer (type)                   \u001b[0m\u001b[1m \u001b[0m┃\u001b[1m \u001b[0m\u001b[1mOutput Shape          \u001b[0m\u001b[1m \u001b[0m┃\u001b[1m \u001b[0m\u001b[1m      Param #\u001b[0m\u001b[1m \u001b[0m┃\n",
       "┡━━━━━━━━━━━━━━━━━━━━━━━━━━━━━━━━━╇━━━━━━━━━━━━━━━━━━━━━━━━╇━━━━━━━━━━━━━━━┩\n",
       "│ MobileNetV3Large (\u001b[38;5;33mFunctional\u001b[0m)   │ (\u001b[38;5;45mNone\u001b[0m, \u001b[38;5;34m1000\u001b[0m)           │     \u001b[38;5;34m5,507,432\u001b[0m │\n",
       "├─────────────────────────────────┼────────────────────────┼───────────────┤\n",
       "│ dense (\u001b[38;5;33mDense\u001b[0m)                   │ (\u001b[38;5;45mNone\u001b[0m, \u001b[38;5;34m4\u001b[0m)              │         \u001b[38;5;34m4,004\u001b[0m │\n",
       "└─────────────────────────────────┴────────────────────────┴───────────────┘\n"
      ]
     },
     "metadata": {},
     "output_type": "display_data"
    },
    {
     "data": {
      "text/html": [
       "<pre style=\"white-space:pre;overflow-x:auto;line-height:normal;font-family:Menlo,'DejaVu Sans Mono',consolas,'Courier New',monospace\"><span style=\"font-weight: bold\"> Total params: </span><span style=\"color: #00af00; text-decoration-color: #00af00\">5,511,436</span> (21.02 MB)\n",
       "</pre>\n"
      ],
      "text/plain": [
       "\u001b[1m Total params: \u001b[0m\u001b[38;5;34m5,511,436\u001b[0m (21.02 MB)\n"
      ]
     },
     "metadata": {},
     "output_type": "display_data"
    },
    {
     "data": {
      "text/html": [
       "<pre style=\"white-space:pre;overflow-x:auto;line-height:normal;font-family:Menlo,'DejaVu Sans Mono',consolas,'Courier New',monospace\"><span style=\"font-weight: bold\"> Trainable params: </span><span style=\"color: #00af00; text-decoration-color: #00af00\">5,487,036</span> (20.93 MB)\n",
       "</pre>\n"
      ],
      "text/plain": [
       "\u001b[1m Trainable params: \u001b[0m\u001b[38;5;34m5,487,036\u001b[0m (20.93 MB)\n"
      ]
     },
     "metadata": {},
     "output_type": "display_data"
    },
    {
     "data": {
      "text/html": [
       "<pre style=\"white-space:pre;overflow-x:auto;line-height:normal;font-family:Menlo,'DejaVu Sans Mono',consolas,'Courier New',monospace\"><span style=\"font-weight: bold\"> Non-trainable params: </span><span style=\"color: #00af00; text-decoration-color: #00af00\">24,400</span> (95.31 KB)\n",
       "</pre>\n"
      ],
      "text/plain": [
       "\u001b[1m Non-trainable params: \u001b[0m\u001b[38;5;34m24,400\u001b[0m (95.31 KB)\n"
      ]
     },
     "metadata": {},
     "output_type": "display_data"
    }
   ],
   "source": [
    "model.summary()"
   ]
  },
  {
   "cell_type": "markdown",
   "id": "9cded85f-8859-44dc-8c16-ec0fc0d55adf",
   "metadata": {},
   "source": [
    "## Model Training"
   ]
  },
  {
   "cell_type": "code",
   "execution_count": 13,
   "id": "b588bb55-29d4-4b8e-a8bb-277eefc61a1f",
   "metadata": {},
   "outputs": [
    {
     "name": "stdout",
     "output_type": "stream",
     "text": [
      "Epoch 1/15\n",
      "\u001b[1m2392/2392\u001b[0m \u001b[32m━━━━━━━━━━━━━━━━━━━━\u001b[0m\u001b[37m\u001b[0m \u001b[1m3610s\u001b[0m 2s/step - accuracy: 0.7915 - f1_score: 0.4377 - loss: 1.2249 - val_accuracy: 0.8043 - val_f1_score: 0.4450 - val_loss: 0.9732\n",
      "Epoch 2/15\n",
      "\u001b[1m2392/2392\u001b[0m \u001b[32m━━━━━━━━━━━━━━━━━━━━\u001b[0m\u001b[37m\u001b[0m \u001b[1m3677s\u001b[0m 2s/step - accuracy: 0.8669 - f1_score: 0.6404 - loss: 0.9029 - val_accuracy: 0.8937 - val_f1_score: 0.6946 - val_loss: 0.7264\n",
      "Epoch 3/15\n",
      "\u001b[1m2392/2392\u001b[0m \u001b[32m━━━━━━━━━━━━━━━━━━━━\u001b[0m\u001b[37m\u001b[0m \u001b[1m3629s\u001b[0m 2s/step - accuracy: 0.9119 - f1_score: 0.7616 - loss: 0.6798 - val_accuracy: 0.9507 - val_f1_score: 0.9164 - val_loss: 0.5594\n",
      "Epoch 4/15\n",
      "\u001b[1m2392/2392\u001b[0m \u001b[32m━━━━━━━━━━━━━━━━━━━━\u001b[0m\u001b[37m\u001b[0m \u001b[1m3522s\u001b[0m 1s/step - accuracy: 0.9582 - f1_score: 0.9253 - loss: 0.5214 - val_accuracy: 0.9589 - val_f1_score: 0.9247 - val_loss: 0.4378\n",
      "Epoch 5/15\n",
      "\u001b[1m2392/2392\u001b[0m \u001b[32m━━━━━━━━━━━━━━━━━━━━\u001b[0m\u001b[37m\u001b[0m \u001b[1m3508s\u001b[0m 1s/step - accuracy: 0.9647 - f1_score: 0.9376 - loss: 0.4027 - val_accuracy: 0.9628 - val_f1_score: 0.9363 - val_loss: 0.3445\n",
      "Epoch 6/15\n",
      "\u001b[1m2392/2392\u001b[0m \u001b[32m━━━━━━━━━━━━━━━━━━━━\u001b[0m\u001b[37m\u001b[0m \u001b[1m3500s\u001b[0m 1s/step - accuracy: 0.9666 - f1_score: 0.9419 - loss: 0.3160 - val_accuracy: 0.9668 - val_f1_score: 0.9421 - val_loss: 0.2763\n",
      "Epoch 7/15\n",
      "\u001b[1m2392/2392\u001b[0m \u001b[32m━━━━━━━━━━━━━━━━━━━━\u001b[0m\u001b[37m\u001b[0m \u001b[1m3505s\u001b[0m 1s/step - accuracy: 0.9705 - f1_score: 0.9488 - loss: 0.2506 - val_accuracy: 0.9675 - val_f1_score: 0.9437 - val_loss: 0.2253\n",
      "Epoch 8/15\n",
      "\u001b[1m2392/2392\u001b[0m \u001b[32m━━━━━━━━━━━━━━━━━━━━\u001b[0m\u001b[37m\u001b[0m \u001b[1m3506s\u001b[0m 1s/step - accuracy: 0.9746 - f1_score: 0.9557 - loss: 0.1979 - val_accuracy: 0.9696 - val_f1_score: 0.9460 - val_loss: 0.1890\n",
      "Epoch 9/15\n",
      "\u001b[1m2392/2392\u001b[0m \u001b[32m━━━━━━━━━━━━━━━━━━━━\u001b[0m\u001b[37m\u001b[0m \u001b[1m3520s\u001b[0m 1s/step - accuracy: 0.9796 - f1_score: 0.9641 - loss: 0.1564 - val_accuracy: 0.9702 - val_f1_score: 0.9492 - val_loss: 0.1601\n",
      "Epoch 10/15\n",
      "\u001b[1m2392/2392\u001b[0m \u001b[32m━━━━━━━━━━━━━━━━━━━━\u001b[0m\u001b[37m\u001b[0m \u001b[1m3503s\u001b[0m 1s/step - accuracy: 0.9828 - f1_score: 0.9699 - loss: 0.1264 - val_accuracy: 0.9713 - val_f1_score: 0.9497 - val_loss: 0.1493\n",
      "Epoch 11/15\n",
      "\u001b[1m2392/2392\u001b[0m \u001b[32m━━━━━━━━━━━━━━━━━━━━\u001b[0m\u001b[37m\u001b[0m \u001b[1m3514s\u001b[0m 1s/step - accuracy: 0.9845 - f1_score: 0.9729 - loss: 0.1042 - val_accuracy: 0.9734 - val_f1_score: 0.9532 - val_loss: 0.1331\n",
      "Epoch 12/15\n",
      "\u001b[1m2392/2392\u001b[0m \u001b[32m━━━━━━━━━━━━━━━━━━━━\u001b[0m\u001b[37m\u001b[0m \u001b[1m3519s\u001b[0m 1s/step - accuracy: 0.9869 - f1_score: 0.9771 - loss: 0.0875 - val_accuracy: 0.9718 - val_f1_score: 0.9513 - val_loss: 0.1276\n",
      "Epoch 13/15\n",
      "\u001b[1m2392/2392\u001b[0m \u001b[32m━━━━━━━━━━━━━━━━━━━━\u001b[0m\u001b[37m\u001b[0m \u001b[1m3568s\u001b[0m 1s/step - accuracy: 0.9883 - f1_score: 0.9796 - loss: 0.0744 - val_accuracy: 0.9749 - val_f1_score: 0.9563 - val_loss: 0.1101\n",
      "Epoch 14/15\n",
      "\u001b[1m2392/2392\u001b[0m \u001b[32m━━━━━━━━━━━━━━━━━━━━\u001b[0m\u001b[37m\u001b[0m \u001b[1m3574s\u001b[0m 1s/step - accuracy: 0.9890 - f1_score: 0.9810 - loss: 0.0661 - val_accuracy: 0.9716 - val_f1_score: 0.9505 - val_loss: 0.1306\n",
      "Epoch 15/15\n",
      "\u001b[1m2392/2392\u001b[0m \u001b[32m━━━━━━━━━━━━━━━━━━━━\u001b[0m\u001b[37m\u001b[0m \u001b[1m3722s\u001b[0m 2s/step - accuracy: 0.9907 - f1_score: 0.9838 - loss: 0.0574 - val_accuracy: 0.9728 - val_f1_score: 0.9524 - val_loss: 0.1222\n"
     ]
    }
   ],
   "source": [
    "training_history=model.fit(x=training_set,validation_data=validation_set,epochs=15)"
   ]
  },
  {
   "cell_type": "markdown",
   "id": "444a24ad-1d2f-4eb2-8748-909235b0c379",
   "metadata": {},
   "source": [
    "## Saving Model"
   ]
  },
  {
   "cell_type": "code",
   "execution_count": 14,
   "id": "08407edb-80dd-499d-8f3b-3d2d1d152a1b",
   "metadata": {},
   "outputs": [],
   "source": [
    "model.save(\"Trained_Eye_Disease_Model.keras\")"
   ]
  },
  {
   "cell_type": "code",
   "execution_count": 15,
   "id": "07f0a1be-64ba-49d5-97b6-3433ab49e210",
   "metadata": {},
   "outputs": [
    {
     "name": "stderr",
     "output_type": "stream",
     "text": [
      "WARNING:absl:You are saving your model as an HDF5 file via `model.save()` or `keras.saving.save_model(model)`. This file format is considered legacy. We recommend using instead the native Keras format, e.g. `model.save('my_model.keras')` or `keras.saving.save_model(model, 'my_model.keras')`. \n"
     ]
    }
   ],
   "source": [
    "model.save(\"Trained_Eye_Disease_Model.h5\")"
   ]
  },
  {
   "cell_type": "code",
   "execution_count": 16,
   "id": "5d08eb03-ed15-4cec-876c-552f20d62c2b",
   "metadata": {},
   "outputs": [
    {
     "data": {
      "text/plain": [
       "{'accuracy': [0.8022348284721375,\n",
       "  0.885721743106842,\n",
       "  0.930314302444458,\n",
       "  0.9581912159919739,\n",
       "  0.9634973406791687,\n",
       "  0.9668822884559631,\n",
       "  0.9710514545440674,\n",
       "  0.9759654998779297,\n",
       "  0.980095386505127,\n",
       "  0.9832581877708435,\n",
       "  0.9845781922340393,\n",
       "  0.9869698882102966,\n",
       "  0.9880938529968262,\n",
       "  0.9888126254081726,\n",
       "  0.9904332756996155],\n",
       " 'f1_score': [<tf.Tensor: shape=(4,), dtype=float32, numpy=\n",
       "  array([8.903983e-01, 0.000000e+00, 6.439148e-04, 8.813241e-01],\n",
       "        dtype=float32)>,\n",
       "  <tf.Tensor: shape=(4,), dtype=float32, numpy=array([0.92508906, 0.8753187 , 0.        , 0.9313321 ], dtype=float32)>,\n",
       "  <tf.Tensor: shape=(4,), dtype=float32, numpy=array([0.93056315, 0.9216075 , 0.58526844, 0.9772511 ], dtype=float32)>,\n",
       "  <tf.Tensor: shape=(4,), dtype=float32, numpy=array([0.96319735, 0.9366288 , 0.82230884, 0.9819879 ], dtype=float32)>,\n",
       "  <tf.Tensor: shape=(4,), dtype=float32, numpy=array([0.96842504, 0.9482121 , 0.8454479 , 0.9839004 ], dtype=float32)>,\n",
       "  <tf.Tensor: shape=(4,), dtype=float32, numpy=array([0.97081566, 0.95336205, 0.85996664, 0.9858443 ], dtype=float32)>,\n",
       "  <tf.Tensor: shape=(4,), dtype=float32, numpy=array([0.9742861 , 0.95933956, 0.8788286 , 0.98752975], dtype=float32)>,\n",
       "  <tf.Tensor: shape=(4,), dtype=float32, numpy=array([0.9784329 , 0.96720093, 0.89762145, 0.98981625], dtype=float32)>,\n",
       "  <tf.Tensor: shape=(4,), dtype=float32, numpy=array([0.9827305 , 0.97339106, 0.91391045, 0.9911504 ], dtype=float32)>,\n",
       "  <tf.Tensor: shape=(4,), dtype=float32, numpy=array([0.9859036 , 0.9780362 , 0.92634284, 0.99232763], dtype=float32)>,\n",
       "  <tf.Tensor: shape=(4,), dtype=float32, numpy=array([0.98756754, 0.9793317 , 0.9331728 , 0.9924766 ], dtype=float32)>,\n",
       "  <tf.Tensor: shape=(4,), dtype=float32, numpy=array([0.98872966, 0.983032  , 0.9430201 , 0.9941691 ], dtype=float32)>,\n",
       "  <tf.Tensor: shape=(4,), dtype=float32, numpy=array([0.9900521 , 0.98424655, 0.9484087 , 0.99439085], dtype=float32)>,\n",
       "  <tf.Tensor: shape=(4,), dtype=float32, numpy=array([0.99070084, 0.9852922 , 0.9514859 , 0.9946825 ], dtype=float32)>,\n",
       "  <tf.Tensor: shape=(4,), dtype=float32, numpy=array([0.9920003 , 0.9868445 , 0.9586444 , 0.99559766], dtype=float32)>],\n",
       " 'loss': [1.1325786113739014,\n",
       "  0.8406144380569458,\n",
       "  0.6386829018592834,\n",
       "  0.4930308163166046,\n",
       "  0.3827599883079529,\n",
       "  0.30084720253944397,\n",
       "  0.23766431212425232,\n",
       "  0.1870788186788559,\n",
       "  0.14924556016921997,\n",
       "  0.12097446620464325,\n",
       "  0.10140524804592133,\n",
       "  0.08496318012475967,\n",
       "  0.07365619391202927,\n",
       "  0.06642698496580124,\n",
       "  0.05800223350524902],\n",
       " 'val_accuracy': [0.804309070110321,\n",
       "  0.8936919569969177,\n",
       "  0.9506884217262268,\n",
       "  0.958922266960144,\n",
       "  0.9627647399902344,\n",
       "  0.9668359160423279,\n",
       "  0.9675220847129822,\n",
       "  0.9695805311203003,\n",
       "  0.9701752066612244,\n",
       "  0.9712730646133423,\n",
       "  0.9734230041503906,\n",
       "  0.9717762470245361,\n",
       "  0.9748867750167847,\n",
       "  0.9716389775276184,\n",
       "  0.9728283286094666],\n",
       " 'val_f1_score': [<tf.Tensor: shape=(4,), dtype=float32, numpy=array([0.9044704, 0.       , 0.       , 0.8755595], dtype=float32)>,\n",
       "  <tf.Tensor: shape=(4,), dtype=float32, numpy=array([0.87772244, 0.923043  , 0.        , 0.9776152 ], dtype=float32)>,\n",
       "  <tf.Tensor: shape=(4,), dtype=float32, numpy=array([0.9522431 , 0.934547  , 0.7976848 , 0.98115015], dtype=float32)>,\n",
       "  <tf.Tensor: shape=(4,), dtype=float32, numpy=array([0.96118045, 0.93644065, 0.8160291 , 0.98519164], dtype=float32)>,\n",
       "  <tf.Tensor: shape=(4,), dtype=float32, numpy=array([0.9690817 , 0.93345207, 0.85970145, 0.98303264], dtype=float32)>,\n",
       "  <tf.Tensor: shape=(4,), dtype=float32, numpy=array([0.97024244, 0.9464714 , 0.8655606 , 0.98593575], dtype=float32)>,\n",
       "  <tf.Tensor: shape=(4,), dtype=float32, numpy=array([0.9702013 , 0.9499666 , 0.8671556 , 0.98730856], dtype=float32)>,\n",
       "  <tf.Tensor: shape=(4,), dtype=float32, numpy=array([0.9729801 , 0.9538258 , 0.87004656, 0.98708826], dtype=float32)>,\n",
       "  <tf.Tensor: shape=(4,), dtype=float32, numpy=array([0.97659445, 0.95248324, 0.8823049 , 0.98530346], dtype=float32)>,\n",
       "  <tf.Tensor: shape=(4,), dtype=float32, numpy=array([0.97479874, 0.9535713 , 0.88286203, 0.98738956], dtype=float32)>,\n",
       "  <tf.Tensor: shape=(4,), dtype=float32, numpy=array([0.97807777, 0.9601058 , 0.88700557, 0.98776764], dtype=float32)>,\n",
       "  <tf.Tensor: shape=(4,), dtype=float32, numpy=array([0.9756522 , 0.9575784 , 0.8847645 , 0.98728055], dtype=float32)>,\n",
       "  <tf.Tensor: shape=(4,), dtype=float32, numpy=array([0.978786  , 0.96529275, 0.892428  , 0.988538  ], dtype=float32)>,\n",
       "  <tf.Tensor: shape=(4,), dtype=float32, numpy=array([0.97697866, 0.94557667, 0.8929804 , 0.9865751 ], dtype=float32)>,\n",
       "  <tf.Tensor: shape=(4,), dtype=float32, numpy=array([0.9780212, 0.9543237, 0.8903446, 0.9870731], dtype=float32)>],\n",
       " 'val_loss': [0.9732419848442078,\n",
       "  0.726433515548706,\n",
       "  0.5594173669815063,\n",
       "  0.43780815601348877,\n",
       "  0.3445025086402893,\n",
       "  0.27634701132774353,\n",
       "  0.22532020509243011,\n",
       "  0.18901152908802032,\n",
       "  0.16008014976978302,\n",
       "  0.14925092458724976,\n",
       "  0.1330803781747818,\n",
       "  0.12762603163719177,\n",
       "  0.11005748808383942,\n",
       "  0.1306065320968628,\n",
       "  0.12223920226097107]}"
      ]
     },
     "execution_count": 16,
     "metadata": {},
     "output_type": "execute_result"
    }
   ],
   "source": [
    "training_history.history"
   ]
  },
  {
   "cell_type": "code",
   "execution_count": 17,
   "id": "5f41c17e-c657-42d8-b2fd-c8fcff4f48d7",
   "metadata": {},
   "outputs": [],
   "source": [
    "#Saving History\n",
    "import pickle\n",
    "with open(\"Training_history.pkl\",\"wb\") as f:\n",
    "    pickle.dump(training_history.history,f)"
   ]
  },
  {
   "cell_type": "code",
   "execution_count": 19,
   "id": "f8c9837a-ec88-44e7-8f72-528ad362246c",
   "metadata": {},
   "outputs": [
    {
     "name": "stdout",
     "output_type": "stream",
     "text": [
      "{'accuracy': [0.8022348284721375, 0.885721743106842, 0.930314302444458, 0.9581912159919739, 0.9634973406791687, 0.9668822884559631, 0.9710514545440674, 0.9759654998779297, 0.980095386505127, 0.9832581877708435, 0.9845781922340393, 0.9869698882102966, 0.9880938529968262, 0.9888126254081726, 0.9904332756996155], 'f1_score': [<tf.Tensor: shape=(4,), dtype=float32, numpy=\n",
      "array([8.903983e-01, 0.000000e+00, 6.439148e-04, 8.813241e-01],\n",
      "      dtype=float32)>, <tf.Tensor: shape=(4,), dtype=float32, numpy=array([0.92508906, 0.8753187 , 0.        , 0.9313321 ], dtype=float32)>, <tf.Tensor: shape=(4,), dtype=float32, numpy=array([0.93056315, 0.9216075 , 0.58526844, 0.9772511 ], dtype=float32)>, <tf.Tensor: shape=(4,), dtype=float32, numpy=array([0.96319735, 0.9366288 , 0.82230884, 0.9819879 ], dtype=float32)>, <tf.Tensor: shape=(4,), dtype=float32, numpy=array([0.96842504, 0.9482121 , 0.8454479 , 0.9839004 ], dtype=float32)>, <tf.Tensor: shape=(4,), dtype=float32, numpy=array([0.97081566, 0.95336205, 0.85996664, 0.9858443 ], dtype=float32)>, <tf.Tensor: shape=(4,), dtype=float32, numpy=array([0.9742861 , 0.95933956, 0.8788286 , 0.98752975], dtype=float32)>, <tf.Tensor: shape=(4,), dtype=float32, numpy=array([0.9784329 , 0.96720093, 0.89762145, 0.98981625], dtype=float32)>, <tf.Tensor: shape=(4,), dtype=float32, numpy=array([0.9827305 , 0.97339106, 0.91391045, 0.9911504 ], dtype=float32)>, <tf.Tensor: shape=(4,), dtype=float32, numpy=array([0.9859036 , 0.9780362 , 0.92634284, 0.99232763], dtype=float32)>, <tf.Tensor: shape=(4,), dtype=float32, numpy=array([0.98756754, 0.9793317 , 0.9331728 , 0.9924766 ], dtype=float32)>, <tf.Tensor: shape=(4,), dtype=float32, numpy=array([0.98872966, 0.983032  , 0.9430201 , 0.9941691 ], dtype=float32)>, <tf.Tensor: shape=(4,), dtype=float32, numpy=array([0.9900521 , 0.98424655, 0.9484087 , 0.99439085], dtype=float32)>, <tf.Tensor: shape=(4,), dtype=float32, numpy=array([0.99070084, 0.9852922 , 0.9514859 , 0.9946825 ], dtype=float32)>, <tf.Tensor: shape=(4,), dtype=float32, numpy=array([0.9920003 , 0.9868445 , 0.9586444 , 0.99559766], dtype=float32)>], 'loss': [1.1325786113739014, 0.8406144380569458, 0.6386829018592834, 0.4930308163166046, 0.3827599883079529, 0.30084720253944397, 0.23766431212425232, 0.1870788186788559, 0.14924556016921997, 0.12097446620464325, 0.10140524804592133, 0.08496318012475967, 0.07365619391202927, 0.06642698496580124, 0.05800223350524902], 'val_accuracy': [0.804309070110321, 0.8936919569969177, 0.9506884217262268, 0.958922266960144, 0.9627647399902344, 0.9668359160423279, 0.9675220847129822, 0.9695805311203003, 0.9701752066612244, 0.9712730646133423, 0.9734230041503906, 0.9717762470245361, 0.9748867750167847, 0.9716389775276184, 0.9728283286094666], 'val_f1_score': [<tf.Tensor: shape=(4,), dtype=float32, numpy=array([0.9044704, 0.       , 0.       , 0.8755595], dtype=float32)>, <tf.Tensor: shape=(4,), dtype=float32, numpy=array([0.87772244, 0.923043  , 0.        , 0.9776152 ], dtype=float32)>, <tf.Tensor: shape=(4,), dtype=float32, numpy=array([0.9522431 , 0.934547  , 0.7976848 , 0.98115015], dtype=float32)>, <tf.Tensor: shape=(4,), dtype=float32, numpy=array([0.96118045, 0.93644065, 0.8160291 , 0.98519164], dtype=float32)>, <tf.Tensor: shape=(4,), dtype=float32, numpy=array([0.9690817 , 0.93345207, 0.85970145, 0.98303264], dtype=float32)>, <tf.Tensor: shape=(4,), dtype=float32, numpy=array([0.97024244, 0.9464714 , 0.8655606 , 0.98593575], dtype=float32)>, <tf.Tensor: shape=(4,), dtype=float32, numpy=array([0.9702013 , 0.9499666 , 0.8671556 , 0.98730856], dtype=float32)>, <tf.Tensor: shape=(4,), dtype=float32, numpy=array([0.9729801 , 0.9538258 , 0.87004656, 0.98708826], dtype=float32)>, <tf.Tensor: shape=(4,), dtype=float32, numpy=array([0.97659445, 0.95248324, 0.8823049 , 0.98530346], dtype=float32)>, <tf.Tensor: shape=(4,), dtype=float32, numpy=array([0.97479874, 0.9535713 , 0.88286203, 0.98738956], dtype=float32)>, <tf.Tensor: shape=(4,), dtype=float32, numpy=array([0.97807777, 0.9601058 , 0.88700557, 0.98776764], dtype=float32)>, <tf.Tensor: shape=(4,), dtype=float32, numpy=array([0.9756522 , 0.9575784 , 0.8847645 , 0.98728055], dtype=float32)>, <tf.Tensor: shape=(4,), dtype=float32, numpy=array([0.978786  , 0.96529275, 0.892428  , 0.988538  ], dtype=float32)>, <tf.Tensor: shape=(4,), dtype=float32, numpy=array([0.97697866, 0.94557667, 0.8929804 , 0.9865751 ], dtype=float32)>, <tf.Tensor: shape=(4,), dtype=float32, numpy=array([0.9780212, 0.9543237, 0.8903446, 0.9870731], dtype=float32)>], 'val_loss': [0.9732419848442078, 0.726433515548706, 0.5594173669815063, 0.43780815601348877, 0.3445025086402893, 0.27634701132774353, 0.22532020509243011, 0.18901152908802032, 0.16008014976978302, 0.14925092458724976, 0.1330803781747818, 0.12762603163719177, 0.11005748808383942, 0.1306065320968628, 0.12223920226097107]}\n"
     ]
    }
   ],
   "source": [
    "#Loading history from pickle file\n",
    "import pickle\n",
    "with open(\"Training_history.pkl\",\"rb\") as f:\n",
    "    load_history=pickle.load(f)\n",
    "print(load_history)"
   ]
  },
  {
   "cell_type": "code",
   "execution_count": 20,
   "id": "660b8a47-f3ca-487e-b477-cdf262c6ba00",
   "metadata": {},
   "outputs": [
    {
     "data": {
      "text/plain": [
       "dict_keys(['accuracy', 'f1_score', 'loss', 'val_accuracy', 'val_f1_score', 'val_loss'])"
      ]
     },
     "execution_count": 20,
     "metadata": {},
     "output_type": "execute_result"
    }
   ],
   "source": [
    "load_history.keys()"
   ]
  },
  {
   "cell_type": "code",
   "execution_count": 21,
   "id": "f628bc3e-fffd-4bcf-aea0-300230c4214f",
   "metadata": {},
   "outputs": [
    {
     "data": {
      "image/png": "[encoded data removed]",
      "text/plain": [
       "<Figure size 640x480 with 1 Axes>"
      ]
     },
     "metadata": {},
     "output_type": "display_data"
    }
   ],
   "source": [
    "#Loss Visualisation\n",
    "epochs=[i for i in range(1,16)]\n",
    "plt.plot(epochs,load_history['loss'],color='red',label='Training Loss')\n",
    "plt.plot(epochs,load_history['val_loss'],color='blue',label='Validation Loss')\n",
    "plt.xlabel(\"No. of Epochs\")\n",
    "plt.ylabel(\"Loss\")\n",
    "plt.title(\"Visualization of Loss Result\")\n",
    "plt.legend()\n",
    "plt.show()"
   ]
  },
  {
   "cell_type": "code",
   "execution_count": 22,
   "id": "ab15358c-21b0-429c-9a3e-67c20b9f1277",
   "metadata": {},
   "outputs": [
    {
     "data": {
      "image/png": "[encoded data removed]",
      "text/plain": [
       "<Figure size 640x480 with 1 Axes>"
      ]
     },
     "metadata": {},
     "output_type": "display_data"
    }
   ],
   "source": [
    "#Accuracy Visualisation\n",
    "epochs=[i for i in range(1,16)]\n",
    "plt.plot(epochs,load_history['accuracy'],color='red',label='Accuracy')\n",
    "plt.plot(epochs,load_history['val_accuracy'],color='blue',label='Validation Accuracy')\n",
    "plt.xlabel(\"No. of Epochs\")\n",
    "plt.ylabel(\"Loss\")\n",
    "plt.title(\"Visualization of Accuracy Result\")\n",
    "plt.legend()\n",
    "plt.show()"
   ]
  },
  {
   "cell_type": "code",
   "execution_count": null,
   "id": "734947fe-7f5b-4d23-8e47-e08768bd0642",
   "metadata": {},
   "outputs": [],
   "source": []
  },
  {
   "cell_type": "markdown",
   "id": "f4f180b8-83e9-4699-8363-b9a8716d7d55",
   "metadata": {},
   "source": [
    "## Evaluation model"
   ]
  },
  {
   "cell_type": "code",
   "execution_count": 23,
   "id": "e80a7005-dae3-4d48-abb8-42aeabf9c35e",
   "metadata": {},
   "outputs": [],
   "source": [
    "model=tf.keras.models.load_model(\"Trained_Eye_Disease_Model.keras\")"
   ]
  },
  {
   "cell_type": "code",
   "execution_count": 24,
   "id": "a98fb05c-451e-4283-808c-2c6b319d8c23",
   "metadata": {},
   "outputs": [
    {
     "data": {
      "text/html": [
       "<pre style=\"white-space:pre;overflow-x:auto;line-height:normal;font-family:Menlo,'DejaVu Sans Mono',consolas,'Courier New',monospace\"><span style=\"font-weight: bold\">Model: \"sequential\"</span>\n",
       "</pre>\n"
      ],
      "text/plain": [
       "\u001b[1mModel: \"sequential\"\u001b[0m\n"
      ]
     },
     "metadata": {},
     "output_type": "display_data"
    },
    {
     "data": {
      "text/html": [
       "<pre style=\"white-space:pre;overflow-x:auto;line-height:normal;font-family:Menlo,'DejaVu Sans Mono',consolas,'Courier New',monospace\">┏━━━━━━━━━━━━━━━━━━━━━━━━━━━━━━━━━┳━━━━━━━━━━━━━━━━━━━━━━━━┳━━━━━━━━━━━━━━━┓\n",
       "┃<span style=\"font-weight: bold\"> Layer (type)                    </span>┃<span style=\"font-weight: bold\"> Output Shape           </span>┃<span style=\"font-weight: bold\">       Param # </span>┃\n",
       "┡━━━━━━━━━━━━━━━━━━━━━━━━━━━━━━━━━╇━━━━━━━━━━━━━━━━━━━━━━━━╇━━━━━━━━━━━━━━━┩\n",
       "│ MobileNetV3Large (<span style=\"color: #0087ff; text-decoration-color: #0087ff\">Functional</span>)   │ (<span style=\"color: #00d7ff; text-decoration-color: #00d7ff\">None</span>, <span style=\"color: #00af00; text-decoration-color: #00af00\">1000</span>)           │     <span style=\"color: #00af00; text-decoration-color: #00af00\">5,507,432</span> │\n",
       "├─────────────────────────────────┼────────────────────────┼───────────────┤\n",
       "│ dense (<span style=\"color: #0087ff; text-decoration-color: #0087ff\">Dense</span>)                   │ (<span style=\"color: #00d7ff; text-decoration-color: #00d7ff\">None</span>, <span style=\"color: #00af00; text-decoration-color: #00af00\">4</span>)              │         <span style=\"color: #00af00; text-decoration-color: #00af00\">4,004</span> │\n",
       "└─────────────────────────────────┴────────────────────────┴───────────────┘\n",
       "</pre>\n"
      ],
      "text/plain": [
       "┏━━━━━━━━━━━━━━━━━━━━━━━━━━━━━━━━━┳━━━━━━━━━━━━━━━━━━━━━━━━┳━━━━━━━━━━━━━━━┓\n",
       "┃\u001b[1m \u001b[0m\u001b[1mLayer (type)                   \u001b[0m\u001b[1m \u001b[0m┃\u001b[1m \u001b[0m\u001b[1mOutput Shape          \u001b[0m\u001b[1m \u001b[0m┃\u001b[1m \u001b[0m\u001b[1m      Param #\u001b[0m\u001b[1m \u001b[0m┃\n",
       "┡━━━━━━━━━━━━━━━━━━━━━━━━━━━━━━━━━╇━━━━━━━━━━━━━━━━━━━━━━━━╇━━━━━━━━━━━━━━━┩\n",
       "│ MobileNetV3Large (\u001b[38;5;33mFunctional\u001b[0m)   │ (\u001b[38;5;45mNone\u001b[0m, \u001b[38;5;34m1000\u001b[0m)           │     \u001b[38;5;34m5,507,432\u001b[0m │\n",
       "├─────────────────────────────────┼────────────────────────┼───────────────┤\n",
       "│ dense (\u001b[38;5;33mDense\u001b[0m)                   │ (\u001b[38;5;45mNone\u001b[0m, \u001b[38;5;34m4\u001b[0m)              │         \u001b[38;5;34m4,004\u001b[0m │\n",
       "└─────────────────────────────────┴────────────────────────┴───────────────┘\n"
      ]
     },
     "metadata": {},
     "output_type": "display_data"
    },
    {
     "data": {
      "text/html": [
       "<pre style=\"white-space:pre;overflow-x:auto;line-height:normal;font-family:Menlo,'DejaVu Sans Mono',consolas,'Courier New',monospace\"><span style=\"font-weight: bold\"> Total params: </span><span style=\"color: #00af00; text-decoration-color: #00af00\">16,485,510</span> (62.89 MB)\n",
       "</pre>\n"
      ],
      "text/plain": [
       "\u001b[1m Total params: \u001b[0m\u001b[38;5;34m16,485,510\u001b[0m (62.89 MB)\n"
      ]
     },
     "metadata": {},
     "output_type": "display_data"
    },
    {
     "data": {
      "text/html": [
       "<pre style=\"white-space:pre;overflow-x:auto;line-height:normal;font-family:Menlo,'DejaVu Sans Mono',consolas,'Courier New',monospace\"><span style=\"font-weight: bold\"> Trainable params: </span><span style=\"color: #00af00; text-decoration-color: #00af00\">5,487,036</span> (20.93 MB)\n",
       "</pre>\n"
      ],
      "text/plain": [
       "\u001b[1m Trainable params: \u001b[0m\u001b[38;5;34m5,487,036\u001b[0m (20.93 MB)\n"
      ]
     },
     "metadata": {},
     "output_type": "display_data"
    },
    {
     "data": {
      "text/html": [
       "<pre style=\"white-space:pre;overflow-x:auto;line-height:normal;font-family:Menlo,'DejaVu Sans Mono',consolas,'Courier New',monospace\"><span style=\"font-weight: bold\"> Non-trainable params: </span><span style=\"color: #00af00; text-decoration-color: #00af00\">24,400</span> (95.31 KB)\n",
       "</pre>\n"
      ],
      "text/plain": [
       "\u001b[1m Non-trainable params: \u001b[0m\u001b[38;5;34m24,400\u001b[0m (95.31 KB)\n"
      ]
     },
     "metadata": {},
     "output_type": "display_data"
    },
    {
     "data": {
      "text/html": [
       "<pre style=\"white-space:pre;overflow-x:auto;line-height:normal;font-family:Menlo,'DejaVu Sans Mono',consolas,'Courier New',monospace\"><span style=\"font-weight: bold\"> Optimizer params: </span><span style=\"color: #00af00; text-decoration-color: #00af00\">10,974,074</span> (41.86 MB)\n",
       "</pre>\n"
      ],
      "text/plain": [
       "\u001b[1m Optimizer params: \u001b[0m\u001b[38;5;34m10,974,074\u001b[0m (41.86 MB)\n"
      ]
     },
     "metadata": {},
     "output_type": "display_data"
    }
   ],
   "source": [
    "model.summary()"
   ]
  },
  {
   "cell_type": "code",
   "execution_count": 31,
   "id": "dbc5dedc-d9ea-4c17-8358-ea4abfd1e474",
   "metadata": {},
   "outputs": [
    {
     "name": "stdout",
     "output_type": "stream",
     "text": [
      "Found 10933 files belonging to 4 classes.\n"
     ]
    }
   ],
   "source": [
    "test_set=image_dataset_from_directory(\n",
    "    \"test\",\n",
    "    labels=\"inferred\",\n",
    "    label_mode=\"categorical\",\n",
    "    class_names=None,\n",
    "    color_mode=\"rgb\",\n",
    "    batch_size=32,\n",
    "    image_size=(224, 224),\n",
    "    shuffle=False,\n",
    "    seed=None,\n",
    "    validation_split=None,\n",
    "    subset=None,\n",
    "    interpolation=\"bilinear\",\n",
    "    follow_links=False,\n",
    "    crop_to_aspect_ratio=False,\n",
    "    pad_to_aspect_ratio=False,\n",
    "    data_format=None,\n",
    "    verbose=True,\n",
    ")"
   ]
  },
  {
   "cell_type": "code",
   "execution_count": 32,
   "id": "1abec7a5-6328-4bef-aac5-452600831205",
   "metadata": {},
   "outputs": [
    {
     "name": "stdout",
     "output_type": "stream",
     "text": [
      "\u001b[1m342/342\u001b[0m \u001b[32m━━━━━━━━━━━━━━━━━━━━\u001b[0m\u001b[37m\u001b[0m \u001b[1m112s\u001b[0m 327ms/step - accuracy: 0.9703 - f1_score: 0.6345 - loss: 0.1280\n"
     ]
    }
   ],
   "source": [
    "test_loss,test_acc,f1_score=model.evaluate(test_set)"
   ]
  },
  {
   "cell_type": "code",
   "execution_count": 33,
   "id": "71b899e5-2141-4f4f-b8e9-f6f7a509f6d7",
   "metadata": {},
   "outputs": [
    {
     "data": {
      "text/plain": [
       "(0.13508188724517822,\n",
       " 0.9695417284965515,\n",
       " <tf.Tensor: shape=(4,), dtype=float32, numpy=array([0.97760594, 0.9468555 , 0.87666464, 0.9841025 ], dtype=float32)>)"
      ]
     },
     "execution_count": 33,
     "metadata": {},
     "output_type": "execute_result"
    }
   ],
   "source": [
    "test_loss,test_acc,f1_score"
   ]
  },
  {
   "cell_type": "code",
   "execution_count": 34,
   "id": "10d8b355-fe61-4a11-8560-0856b6dd49d8",
   "metadata": {},
   "outputs": [
    {
     "data": {
      "text/plain": [
       "<tf.Tensor: shape=(10933, 4), dtype=float32, numpy=\n",
       "array([[1., 0., 0., 0.],\n",
       "       [1., 0., 0., 0.],\n",
       "       [1., 0., 0., 0.],\n",
       "       ...,\n",
       "       [0., 0., 0., 1.],\n",
       "       [0., 0., 0., 1.],\n",
       "       [0., 0., 0., 1.]], dtype=float32)>"
      ]
     },
     "execution_count": 34,
     "metadata": {},
     "output_type": "execute_result"
    }
   ],
   "source": [
    "#Computing True label from test set\n",
    "true_categories=tf.concat([y for x,y in test_set],axis=0)\n",
    "true_categories"
   ]
  },
  {
   "cell_type": "code",
   "execution_count": 35,
   "id": "14009f04-89c4-4b63-99c0-920ebefdcd91",
   "metadata": {},
   "outputs": [
    {
     "data": {
      "text/plain": [
       "<tf.Tensor: shape=(10933,), dtype=int64, numpy=array([0, 0, 0, ..., 3, 3, 3])>"
      ]
     },
     "execution_count": 35,
     "metadata": {},
     "output_type": "execute_result"
    }
   ],
   "source": [
    "Y_true=tf.argmax(true_categories,axis=1)\n",
    "Y_true"
   ]
  },
  {
   "cell_type": "code",
   "execution_count": 36,
   "id": "853796e5-0fab-4b4e-9cee-fb9ebb94881f",
   "metadata": {},
   "outputs": [
    {
     "name": "stdout",
     "output_type": "stream",
     "text": [
      "\u001b[1m342/342\u001b[0m \u001b[32m━━━━━━━━━━━━━━━━━━━━\u001b[0m\u001b[37m\u001b[0m \u001b[1m109s\u001b[0m 319ms/step\n"
     ]
    },
    {
     "data": {
      "text/plain": [
       "array([[0.9844924 , 0.00453697, 0.00661464, 0.00435597],\n",
       "       [0.9844924 , 0.00453697, 0.00661464, 0.00435597],\n",
       "       [0.9844924 , 0.00453697, 0.00661464, 0.00435597],\n",
       "       ...,\n",
       "       [0.00284306, 0.00360236, 0.00527705, 0.9882776 ],\n",
       "       [0.00284306, 0.00360236, 0.00527705, 0.9882776 ],\n",
       "       [0.00284306, 0.00360236, 0.00527705, 0.9882776 ]], dtype=float32)"
      ]
     },
     "execution_count": 36,
     "metadata": {},
     "output_type": "execute_result"
    }
   ],
   "source": [
    "#Computing Predicted labels using test_set\n",
    "predicted_categories=model.predict(test_set)\n",
    "predicted_categories"
   ]
  },
  {
   "cell_type": "code",
   "execution_count": 37,
   "id": "b4a3f2cd-6991-41a4-9a5d-66712e1c39dc",
   "metadata": {},
   "outputs": [
    {
     "data": {
      "text/plain": [
       "<tf.Tensor: shape=(10933,), dtype=int64, numpy=array([0, 0, 0, ..., 3, 3, 3])>"
      ]
     },
     "execution_count": 37,
     "metadata": {},
     "output_type": "execute_result"
    }
   ],
   "source": [
    "Y_Pred=tf.argmax(predicted_categories,axis=1)\n",
    "Y_Pred"
   ]
  },
  {
   "cell_type": "markdown",
   "id": "6496e460-2bd1-41ff-90e7-9dd80aed0c17",
   "metadata": {},
   "source": [
    "### 1. Classification Report"
   ]
  },
  {
   "cell_type": "code",
   "execution_count": 38,
   "id": "6cc833f3-bada-4f90-a820-8e6c2b058722",
   "metadata": {},
   "outputs": [
    {
     "name": "stdout",
     "output_type": "stream",
     "text": [
      "              precision    recall  f1-score   support\n",
      "\n",
      "           0       0.98      0.98      0.98      3746\n",
      "           1       0.97      0.92      0.95      1161\n",
      "           2       0.90      0.85      0.88       887\n",
      "           3       0.97      0.99      0.98      5139\n",
      "\n",
      "    accuracy                           0.97     10933\n",
      "   macro avg       0.96      0.94      0.95     10933\n",
      "weighted avg       0.97      0.97      0.97     10933\n",
      "\n"
     ]
    }
   ],
   "source": [
    "from sklearn.metrics import classification_report\n",
    "print(classification_report(Y_true,Y_Pred))"
   ]
  },
  {
   "cell_type": "code",
   "execution_count": 39,
   "id": "80fea924-aa61-40bb-b3db-aa206ff06302",
   "metadata": {},
   "outputs": [],
   "source": [
    "### 2. Confusion Matrix"
   ]
  },
  {
   "cell_type": "code",
   "execution_count": 41,
   "id": "4bb89d73-0cb5-46bd-85f8-29073a776bb0",
   "metadata": {},
   "outputs": [
    {
     "data": {
      "text/plain": [
       "array([[3667,   10,   60,    9],\n",
       "       [  16, 1069,    4,   72],\n",
       "       [  69,    9,  757,   52],\n",
       "       [   4,    9,   19, 5107]])"
      ]
     },
     "execution_count": 41,
     "metadata": {},
     "output_type": "execute_result"
    }
   ],
   "source": [
    "from sklearn.metrics import confusion_matrix\n",
    "cm=confusion_matrix(Y_true,Y_Pred)\n",
    "cm"
   ]
  },
  {
   "cell_type": "code",
   "execution_count": 42,
   "id": "cb9755e4-89cf-4f0e-b6cc-6dfd15d9b0f8",
   "metadata": {},
   "outputs": [
    {
     "data": {
      "image/png": "[encoded data removed]",
      "text/plain": [
       "<Figure size 1000x1000 with 2 Axes>"
      ]
     },
     "metadata": {},
     "output_type": "display_data"
    }
   ],
   "source": [
    "plt.figure(figsize=(10,10))\n",
    "sns.heatmap(cm,annot=True,annot_kws={\"size\":8})\n",
    "plt.xlabel(\"Predicted Class\",fontsize=10)\n",
    "plt.ylabel(\"Actual Class\",fontsize=10)\n",
    "plt.title(\"Human Eye Disease Prediction Confusion Matrix\",fontsize=12)\n",
    "plt.show()"
   ]
  },
  {
   "cell_type": "code",
   "execution_count": null,
   "id": "8d2e215a-474a-438c-93ae-e31f71083f6f",
   "metadata": {},
   "outputs": [],
   "source": []
  }
 ],
 "metadata": {
  "kernelspec": {
   "display_name": "Python 3.9 (tensorflow_env)",
   "language": "python",
   "name": "tensorflow_env"
  },
  "language_info": {
   "codemirror_mode": {
    "name": "ipython",
    "version": 3
   },
   "file_extension": ".py",
   "mimetype": "text/x-python",
   "name": "python",
   "nbconvert_exporter": "python",
   "pygments_lexer": "ipython3",
   "version": "3.9.21"
  }
 },
 "nbformat": 4,
 "nbformat_minor": 5
}
